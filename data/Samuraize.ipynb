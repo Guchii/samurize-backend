{
 "cells": [
  {
   "cell_type": "code",
   "execution_count": 1,
   "metadata": {
    "colab": {
     "base_uri": "https://localhost:8080/"
    },
    "id": "zPczQ9EN5K_n",
    "outputId": "7f152bd2-a717-4479-ad03-e8cf80de2548"
   },
   "outputs": [
    {
     "name": "stderr",
     "output_type": "stream",
     "text": [
      "/home/ignisda/.cache/pypoetry/virtualenvs/samurize-Iyip7PpL-py3.10/lib/python3.10/site-packages/tqdm/auto.py:22: TqdmWarning: IProgress not found. Please update jupyter and ipywidgets. See https://ipywidgets.readthedocs.io/en/stable/user_install.html\n",
      "  from .autonotebook import tqdm as notebook_tqdm\n",
      "[nltk_data] Downloading package punkt to /home/ignisda/nltk_data...\n",
      "[nltk_data]   Package punkt is already up-to-date!\n"
     ]
    }
   ],
   "source": [
    "from transformers import PegasusForConditionalGeneration, PegasusTokenizer\n",
    "import nltk\n",
    "from nltk.tokenize import BlanklineTokenizer\n",
    "import spacy\n",
    "\n",
    "nltk.download('punkt')\n",
    "nlp = spacy.load(\"en_core_web_sm\")"
   ]
  },
  {
   "cell_type": "markdown",
   "metadata": {
    "id": "shbc3YifecXn"
   },
   "source": [
    "## Text Summarizer"
   ]
  },
  {
   "cell_type": "code",
   "execution_count": 2,
   "metadata": {},
   "outputs": [],
   "source": [
    "path = './data' # 'google/pegasus-cnn_dailymail'"
   ]
  },
  {
   "cell_type": "code",
   "execution_count": 3,
   "metadata": {
    "id": "Fh7xS3Rq5ahq"
   },
   "outputs": [],
   "source": [
    "tokenizer = PegasusTokenizer.from_pretrained(path)"
   ]
  },
  {
   "cell_type": "code",
   "execution_count": 4,
   "metadata": {
    "id": "OHtTAjOD5xPG"
   },
   "outputs": [],
   "source": [
    "textmodel = PegasusForConditionalGeneration.from_pretrained(path)"
   ]
  },
  {
   "cell_type": "code",
   "execution_count": 24,
   "metadata": {
    "id": "Ic2La-DVcVhH"
   },
   "outputs": [],
   "source": [
    "def getParagraphs(text):\n",
    "  return BlanklineTokenizer().tokenize(text)\n",
    "\n",
    "\n",
    "def getTokens(paragraph):\n",
    "  return tokenizer(paragraph, truncation=True, padding='longest', return_tensors='pt')\n",
    "\n",
    "\n",
    "def summarize(tokens):\n",
    "  summary = textmodel.generate(**tokens)\n",
    "  summary = tokenizer.decode(summary[0])\n",
    "  return summary\n",
    "\n",
    "\n",
    "def generateVideoTokens(transcript):\n",
    "  doc = nlp(transcript)\n",
    "  sentences = []\n",
    "  for sent in doc.sents:\n",
    "    sentences.append(sent.text)\n",
    "  \n",
    "  videotokens = []\n",
    "  for i in range(0, len(sentences), 5):\n",
    "    videotokens.append(getTokens(sentences[i:i+5]))\n",
    "  return videotokens"
   ]
  },
  {
   "cell_type": "code",
   "execution_count": 6,
   "metadata": {
    "id": "3KxCca5Tc50n"
   },
   "outputs": [],
   "source": [
    "text = \"\"\"\n",
    "The giraffe is a large African hoofed mammal belonging to the genus Giraffa. It is the tallest living terrestrial animal and the largest ruminant on Earth. Traditionally, giraffes were thought to be one species, Giraffa camelopardalis, with nine subspecies. Most recently, researchers proposed dividing them into up to eight extant species due to new research into their mitochondrial and nuclear DNA, as well as morphological measurements. Seven other extinct species of Giraffa are known from the fossil record.\n",
    "\n",
    "The giraffe's chief distinguishing characteristics are its extremely long neck and legs, its horn-like ossicones, and its spotted coat patterns. It is classified under the family Giraffidae, along with its closest extant relative, the okapi. Its scattered range extends from Chad in the north to South Africa in the south, and from Niger in the west to Somalia in the east. Giraffes usually inhabit savannahs and woodlands. Their food source is leaves, fruits, and flowers of woody plants, primarily acacia species, which they browse at heights most other herbivores cannot reach.\n",
    "\n",
    "Lions, leopards, spotted hyenas, and African wild dogs may prey upon giraffes. Giraffes live in herds of related females and their offspring, or bachelor herds of unrelated adult males, but are gregarious and may gather in large aggregations. Males establish social hierarchies through \"necking\", combat bouts where the neck is used as a weapon. Dominant males gain mating access to females, which bear sole responsibility for raising the young.\n",
    "2\n",
    "The giraffe has intrigued various ancient and modern cultures for its peculiar appearance, and has often been featured in paintings, books, and cartoons. It is classified by the International Union for Conservation of Nature (IUCN) as vulnerable to extinction and has been extirpated from many parts of its former range. Giraffes are still found in numerous national parks and game reserves, but estimates as of 2016 indicate there are approximately 97,500 members of Giraffa in the wild. More than 1,600 were kept in zoos in 2010. \n",
    "\n",
    "The name \"giraffe\" has its earliest known origins in the Arabic word zarāfah (زرافة),[2] perhaps borrowed from the animal's Somali name geri.[3] The Arab name is translated as \"fast-walker\".[4] In early Modern English the spellings jarraf and ziraph were used, probably directly from the Arabic,[5] and in Middle English jarraf and ziraph, gerfauntz.\n",
    "The Italian form giraffa arose in the 1590s. \n",
    "\"\"\""
   ]
  },
  {
   "cell_type": "code",
   "execution_count": 7,
   "metadata": {
    "colab": {
     "base_uri": "https://localhost:8080/"
    },
    "id": "q-Aw5PrxJVLb",
    "outputId": "f2e8f3bf-8802-402a-d3d0-34f685338377"
   },
   "outputs": [
    {
     "data": {
      "text/plain": [
       "['\\nThe giraffe is a large African hoofed mammal belonging to the genus Giraffa. It is the tallest living terrestrial animal and the largest ruminant on Earth. Traditionally, giraffes were thought to be one species, Giraffa camelopardalis, with nine subspecies. Most recently, researchers proposed dividing them into up to eight extant species due to new research into their mitochondrial and nuclear DNA, as well as morphological measurements. Seven other extinct species of Giraffa are known from the fossil record.',\n",
       " \"The giraffe's chief distinguishing characteristics are its extremely long neck and legs, its horn-like ossicones, and its spotted coat patterns. It is classified under the family Giraffidae, along with its closest extant relative, the okapi. Its scattered range extends from Chad in the north to South Africa in the south, and from Niger in the west to Somalia in the east. Giraffes usually inhabit savannahs and woodlands. Their food source is leaves, fruits, and flowers of woody plants, primarily acacia species, which they browse at heights most other herbivores cannot reach.\",\n",
       " 'Lions, leopards, spotted hyenas, and African wild dogs may prey upon giraffes. Giraffes live in herds of related females and their offspring, or bachelor herds of unrelated adult males, but are gregarious and may gather in large aggregations. Males establish social hierarchies through \"necking\", combat bouts where the neck is used as a weapon. Dominant males gain mating access to females, which bear sole responsibility for raising the young.\\n2\\nThe giraffe has intrigued various ancient and modern cultures for its peculiar appearance, and has often been featured in paintings, books, and cartoons. It is classified by the International Union for Conservation of Nature (IUCN) as vulnerable to extinction and has been extirpated from many parts of its former range. Giraffes are still found in numerous national parks and game reserves, but estimates as of 2016 indicate there are approximately 97,500 members of Giraffa in the wild. More than 1,600 were kept in zoos in 2010.',\n",
       " 'The name \"giraffe\" has its earliest known origins in the Arabic word zarāfah (زرافة),[2] perhaps borrowed from the animal\\'s Somali name geri.[3] The Arab name is translated as \"fast-walker\".[4] In early Modern English the spellings jarraf and ziraph were used, probably directly from the Arabic,[5] and in Middle English jarraf and ziraph, gerfauntz.\\nThe Italian form giraffa arose in the 1590s. \\n']"
      ]
     },
     "execution_count": 7,
     "metadata": {},
     "output_type": "execute_result"
    }
   ],
   "source": [
    "paragraphs = getParagraphs(text)\n",
    "paragraphs"
   ]
  },
  {
   "cell_type": "code",
   "execution_count": 8,
   "metadata": {
    "colab": {
     "base_uri": "https://localhost:8080/"
    },
    "id": "b95BgYZ2KxBQ",
    "outputId": "08443686-99b1-4e85-eccb-268f39c95e43"
   },
   "outputs": [
    {
     "data": {
      "text/plain": [
       "[{'input_ids': tensor([[  139, 36340,   117,   114,   423,  2636, 46001,   316, 47974, 10857,\n",
       "            112,   109, 23737, 27418, 20307,   304,   107,   168,   117,   109,\n",
       "          22246,   622, 29715,  2517,   111,   109,  1368,   110,  7882, 62333,\n",
       "            124,  2774,   107, 28610,   108, 36340,   116,   195,   666,   112,\n",
       "            129,   156,  2398,   108, 27418, 20307,   304,   642, 25697,  6559,\n",
       "          21175,   108,   122,  2899, 62910,   107,  1386,   938,   108,  2995,\n",
       "           2962, 20179,   183,   190,   164,   112,  1965, 52808,  2398,   640,\n",
       "            112,   177,   473,   190,   153, 36546,   111,  4573,  5488,   108,\n",
       "            130,   210,   130, 52687,  6614,   107,  9541,   176, 27478,  2398,\n",
       "            113, 27418, 20307,   304,   127,   606,   135,   109, 11881,  1093,\n",
       "            107,     1]]), 'attention_mask': tensor([[1, 1, 1, 1, 1, 1, 1, 1, 1, 1, 1, 1, 1, 1, 1, 1, 1, 1, 1, 1, 1, 1, 1, 1,\n",
       "          1, 1, 1, 1, 1, 1, 1, 1, 1, 1, 1, 1, 1, 1, 1, 1, 1, 1, 1, 1, 1, 1, 1, 1,\n",
       "          1, 1, 1, 1, 1, 1, 1, 1, 1, 1, 1, 1, 1, 1, 1, 1, 1, 1, 1, 1, 1, 1, 1, 1,\n",
       "          1, 1, 1, 1, 1, 1, 1, 1, 1, 1, 1, 1, 1, 1, 1, 1, 1, 1, 1, 1, 1, 1, 1, 1,\n",
       "          1, 1, 1, 1, 1, 1]])},\n",
       " {'input_ids': tensor([[  139, 36340,   131,   116,  3522, 31362,  4456,   127,   203,  1506,\n",
       "            300,  3464,   111,  3745,   108,   203, 15222,   121,  2134,   110,\n",
       "          58469, 23616,   116,   108,   111,   203,  8666,  4316,  2890,   107,\n",
       "            168,   117,  8015,   365,   109,   328, 27418, 20307, 26312,   108,\n",
       "            466,   122,   203,  6682, 52808,  4632,   108,   109,  6514, 26910,\n",
       "            107,  3096, 11315,   499,  8998,   135, 14636,   115,   109,  2523,\n",
       "            112,   793,  1922,   115,   109,  2363,   108,   111,   135, 29632,\n",
       "            115,   109,  3381,   112, 26624,   115,   109,  3758,   107, 70618,\n",
       "            116,   832, 23003, 74926,   116,   111, 40027,   107,  2310,   425,\n",
       "           1116,   117,  2163,   108,  5011,   108,   111,  2215,   113, 32863,\n",
       "           1737,   108,  3654, 66483,  2398,   108,   162,   157,  5095,   134,\n",
       "          10705,   205,   176, 68628,   116,   967,  1111,   107,     1]]), 'attention_mask': tensor([[1, 1, 1, 1, 1, 1, 1, 1, 1, 1, 1, 1, 1, 1, 1, 1, 1, 1, 1, 1, 1, 1, 1, 1,\n",
       "          1, 1, 1, 1, 1, 1, 1, 1, 1, 1, 1, 1, 1, 1, 1, 1, 1, 1, 1, 1, 1, 1, 1, 1,\n",
       "          1, 1, 1, 1, 1, 1, 1, 1, 1, 1, 1, 1, 1, 1, 1, 1, 1, 1, 1, 1, 1, 1, 1, 1,\n",
       "          1, 1, 1, 1, 1, 1, 1, 1, 1, 1, 1, 1, 1, 1, 1, 1, 1, 1, 1, 1, 1, 1, 1, 1,\n",
       "          1, 1, 1, 1, 1, 1, 1, 1, 1, 1, 1, 1, 1, 1, 1, 1, 1, 1, 1, 1, 1, 1, 1]])},\n",
       " {'input_ids': tensor([[12770,   108, 22446,   116,   108,  8666, 80353,   116,   108,   111,\n",
       "           2636,  3057,  2457,   218, 14552,  1071, 36340,   116,   107, 70618,\n",
       "            116,   498,   115, 39684,   113,   985, 12511,   111,   153, 22981,\n",
       "            108,   132,  9779, 39684,   113, 18877,  2765, 12983,   108,   155,\n",
       "            127, 91178,   111,   218,  4699,   115,   423, 29052,   116,   107,\n",
       "          59749,  3449,   525, 62479,   224,   198, 15620,   273,   194,   108,\n",
       "           5311, 38650,   241,   109,  3464,   117,   263,   130,   114,  6907,\n",
       "            107, 87950, 12983,  1830, 36744,   489,   112, 12511,   108,   162,\n",
       "           4276,  5330,  2301,   118,  4673,   109,   758,   107,   280,   139,\n",
       "          36340,   148, 17208,   623,  3266,   111,   946,  6223,   118,   203,\n",
       "          21318,  2436,   108,   111,   148,   432,   174,  2655,   115,  5205,\n",
       "            108,  1031,   108,   111, 20449,   107,   168,   117,  8015,   141,\n",
       "            109,  1142,  2539,   118, 10207,   113,  5527,   143, 37599, 19156,\n",
       "            158,   130,  5387,   112, 22526,   111,   148,   174, 20892,  5139,\n",
       "          17802,   316,   135,   223,   972,   113,   203,  1319,   499,   107,\n",
       "          70618,   116,   127,   309,   374,   115,  1866,  1146,  4871,   111,\n",
       "            389,  7106,   108,   155,  5347,   130,   113,  1448,  4298,   186,\n",
       "            127,  2216,   950, 40982,   549,   113, 27418, 20307,   304,   115,\n",
       "            109,  3057,   107,  1439,   197, 35773,   195,  1867,   115, 52649,\n",
       "            115,  6081,     1]]), 'attention_mask': tensor([[1, 1, 1, 1, 1, 1, 1, 1, 1, 1, 1, 1, 1, 1, 1, 1, 1, 1, 1, 1, 1, 1, 1, 1,\n",
       "          1, 1, 1, 1, 1, 1, 1, 1, 1, 1, 1, 1, 1, 1, 1, 1, 1, 1, 1, 1, 1, 1, 1, 1,\n",
       "          1, 1, 1, 1, 1, 1, 1, 1, 1, 1, 1, 1, 1, 1, 1, 1, 1, 1, 1, 1, 1, 1, 1, 1,\n",
       "          1, 1, 1, 1, 1, 1, 1, 1, 1, 1, 1, 1, 1, 1, 1, 1, 1, 1, 1, 1, 1, 1, 1, 1,\n",
       "          1, 1, 1, 1, 1, 1, 1, 1, 1, 1, 1, 1, 1, 1, 1, 1, 1, 1, 1, 1, 1, 1, 1, 1,\n",
       "          1, 1, 1, 1, 1, 1, 1, 1, 1, 1, 1, 1, 1, 1, 1, 1, 1, 1, 1, 1, 1, 1, 1, 1,\n",
       "          1, 1, 1, 1, 1, 1, 1, 1, 1, 1, 1, 1, 1, 1, 1, 1, 1, 1, 1, 1, 1, 1, 1, 1,\n",
       "          1, 1, 1, 1, 1, 1, 1, 1, 1, 1, 1, 1, 1, 1, 1, 1, 1, 1, 1, 1, 1, 1, 1, 1,\n",
       "          1]])},\n",
       " {'input_ids': tensor([[  139,   442,   198, 41113, 44551,   194,   148,   203,  9441,   606,\n",
       "          10959,   115,   109, 11689,  1172,   110, 21711,   105, 56114,   143,\n",
       "            105,   312,  4101, 50558,  1850, 15278,   135,   109,  2517,   131,\n",
       "            116, 40020,   442, 41291,   457,   107,  4101, 59740,   139,  7128,\n",
       "            442,   117,  8839,   130,   198, 13107,   121, 41425,  2302,  4101,\n",
       "          60708,   222,   616,  4014,  1188,   109, 10702,   116,  8432, 36436,\n",
       "            111,  8874, 13136,  9342,   195,   263,   108,   864,  1072,   135,\n",
       "            109, 11689,   108,  4101,  1343,  1100,   111,   115,  3396,  1188,\n",
       "           8432, 36436,   111,  8874, 13136,  9342,   108, 41291,  2073, 34443,\n",
       "           1772,   107,   139,  2942,   515, 24377, 72186,   304, 22032,   115,\n",
       "            109,   110, 94393,   116,   107,     1]]), 'attention_mask': tensor([[1, 1, 1, 1, 1, 1, 1, 1, 1, 1, 1, 1, 1, 1, 1, 1, 1, 1, 1, 1, 1, 1, 1, 1,\n",
       "          1, 1, 1, 1, 1, 1, 1, 1, 1, 1, 1, 1, 1, 1, 1, 1, 1, 1, 1, 1, 1, 1, 1, 1,\n",
       "          1, 1, 1, 1, 1, 1, 1, 1, 1, 1, 1, 1, 1, 1, 1, 1, 1, 1, 1, 1, 1, 1, 1, 1,\n",
       "          1, 1, 1, 1, 1, 1, 1, 1, 1, 1, 1, 1, 1, 1, 1, 1, 1, 1, 1, 1, 1, 1, 1, 1,\n",
       "          1, 1, 1, 1, 1, 1, 1, 1, 1, 1]])}]"
      ]
     },
     "execution_count": 8,
     "metadata": {},
     "output_type": "execute_result"
    }
   ],
   "source": [
    "tokens = []\n",
    "for para in paragraphs:\n",
    "  tokens.append(getTokens(para))\n",
    "\n",
    "tokens"
   ]
  },
  {
   "cell_type": "code",
   "execution_count": 9,
   "metadata": {
    "colab": {
     "base_uri": "https://localhost:8080/"
    },
    "id": "XDtWRikSM2c4",
    "outputId": "d271d710-f567-42be-ddd9-493f6c788bb1"
   },
   "outputs": [
    {
     "name": "stderr",
     "output_type": "stream",
     "text": [
      "/home/ignisda/.cache/pypoetry/virtualenvs/samurize-Iyip7PpL-py3.10/lib/python3.10/site-packages/transformers/generation_utils.py:1359: UserWarning: Neither `max_length` nor `max_new_tokens` has been set, `max_length` will default to 128 (`self.config.max_length`). Controlling `max_length` via the config is deprecated and `max_length` will be removed from the config in v5 of Transformers -- we recommend using `max_new_tokens` to control the maximum length of the generation.\n",
      "  warnings.warn(\n"
     ]
    },
    {
     "name": "stdout",
     "output_type": "stream",
     "text": [
      "The giraffe is a large African hoofed mammal belonging to the genus Giraffa.<n>It is the tallest living terrestrial animal and the largest ruminant on Earth.\n",
      "It is classified under the family Giraffidae, along with its closest extant relative, the okapi.<n>Its scattered range extends from Chad in the north to South Africa in the south, and from Niger in the west to Somalia in the east.\n",
      "Giraffes live in herds of related females and their offspring, or bachelor herds of unrelated adult males.<n>Males establish social hierarchies through \"necking\", combat bouts where the neck is used as a weapon.<n>Giraffes are still found in numerous national parks and game reserves, but estimates as of 2016 indicate there are approximately 97,500 members of Giraffa in the wild.\n",
      "The name \"giraffe\" has its earliest known origins in the Arabic word zar ⁇ fah ( ⁇ ), perhaps borrowed from the animal's Somali name geri.<n>The Arab name is translated as \"fast-walker\"<n>The Italian form giraffa arose in the 1590s.\n"
     ]
    }
   ],
   "source": [
    "for i in tokens:\n",
    "  print(summarize(i))"
   ]
  },
  {
   "cell_type": "markdown",
   "metadata": {
    "id": "D6NbLNdBeRru"
   },
   "source": [
    "## Video Summarizer\n"
   ]
  },
  {
   "cell_type": "code",
   "execution_count": 10,
   "metadata": {
    "id": "3vT3x6DVhlE0"
   },
   "outputs": [],
   "source": [
    "from youtube_transcript_api import YouTubeTranscriptApi"
   ]
  },
  {
   "cell_type": "code",
   "execution_count": 11,
   "metadata": {
    "id": "eiVMLRhyfpv9"
   },
   "outputs": [],
   "source": [
    "def getTranscript(transcript):\n",
    "  subtitles = \"\"\n",
    "  for words in transcript:\n",
    "    subtitles += words['text']\n",
    "    subtitles += \" \"\n",
    "  return subtitles"
   ]
  },
  {
   "cell_type": "code",
   "execution_count": 26,
   "metadata": {
    "id": "dT5biBsmf01Z"
   },
   "outputs": [],
   "source": [
    "input_video = 'https://www.youtube.com/watch?v=5C_HPTJg5ek'\n",
    "iv = input_video.split('=')[1]"
   ]
  },
  {
   "cell_type": "code",
   "execution_count": 28,
   "metadata": {
    "id": "ZfinDU2qoI1b"
   },
   "outputs": [],
   "source": [
    "transcript = YouTubeTranscriptApi.get_transcript(iv)\n",
    "transcript = getTranscript(transcript)"
   ]
  },
  {
   "cell_type": "code",
   "execution_count": 29,
   "metadata": {
    "id": "eJYvwT0UsL0Z"
   },
   "outputs": [],
   "source": [
    "videotokens = generateVideoTokens(transcript)"
   ]
  },
  {
   "cell_type": "code",
   "execution_count": 30,
   "metadata": {
    "id": "J62c0c6XxNi5"
   },
   "outputs": [
    {
     "name": "stdout",
     "output_type": "stream",
     "text": [
      "rust is a compiled programming language that delivers high-level simplicity with low-level performance.<n> rust achieves memory safety with a concept known as ownership and borrowing by default every variable in rust is immutable.<n> rust is a popular choice for building systems where performance is absolutely critical like game engines databases or operating systems.\n"
     ]
    }
   ],
   "source": [
    "for tokens in videotokens:\n",
    "  print(summarize(tokens))"
   ]
  }
 ],
 "metadata": {
  "accelerator": "GPU",
  "colab": {
   "provenance": []
  },
  "gpuClass": "standard",
  "kernelspec": {
   "display_name": "Python 3 (ipykernel)",
   "language": "python",
   "name": "python3"
  },
  "language_info": {
   "codemirror_mode": {
    "name": "ipython",
    "version": 3
   },
   "file_extension": ".py",
   "mimetype": "text/x-python",
   "name": "python",
   "nbconvert_exporter": "python",
   "pygments_lexer": "ipython3",
   "version": "3.10.8"
  }
 },
 "nbformat": 4,
 "nbformat_minor": 1
}
